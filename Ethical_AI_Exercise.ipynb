{
  "cells": [
    {
      "cell_type": "markdown",
      "metadata": {
        "id": "2SzKC7TwGFit"
      },
      "source": [
        "## Learning Goals\n",
        "\n",
        "##### - Finding the distribution of features in datasets with exploratory analysis\n",
        "##### - Identifying potential bias by documenting the differences between privileged and under-privileged groups\n",
        "##### - Finding the prevelence between features and target variables \n",
        "##### - Training a Machine Learning model \n",
        "##### - Evaluating a Machine Learning model with respect to its performance with privileged and under-privileged groups in       dataset\n",
        "##### - Confirming bias in the dataset and identifying the bias type\n"
      ]
    },
    {
      "cell_type": "markdown",
      "metadata": {
        "id": "-39_h69sGFiu"
      },
      "source": [
        " UCI Adult Dataset. Please download the dataset from here (https://archive.ics.uci.edu/ml/datasets/adult) and save it as a csv."
      ]
    },
    {
      "cell_type": "code",
      "execution_count": 1,
      "metadata": {
        "id": "itoG58ARGFiu"
      },
      "outputs": [],
      "source": [
        "import numpy as np\n",
        "import pandas as pd\n",
        "import matplotlib.pyplot as plt\n",
        "\n",
        "from sklearn import svm\n",
        "from sklearn.ensemble import RandomForestClassifier\n",
        "from sklearn.metrics import accuracy_score,confusion_matrix\n",
        "from sklearn.metrics import classification_report\n",
        "from sklearn.feature_selection import mutual_info_classif"
      ]
    },
    {
      "cell_type": "code",
      "source": [
        "from google.colab import drive\n",
        "from google.colab import files \n",
        "\n",
        "drive.mount('/content/drive')\n",
        "path_file = 'drive/My Drive/adult.data'"
      ],
      "metadata": {
        "colab": {
          "base_uri": "https://localhost:8080/"
        },
        "id": "nMILqvbtJcpJ",
        "outputId": "27ee5ba7-fa2f-40a7-bc56-3861af78563a"
      },
      "execution_count": 2,
      "outputs": [
        {
          "output_type": "stream",
          "name": "stdout",
          "text": [
            "Mounted at /content/drive\n"
          ]
        }
      ]
    },
    {
      "cell_type": "code",
      "execution_count": 3,
      "metadata": {
        "id": "36MuUaneGFiw"
      },
      "outputs": [],
      "source": [
        "names = ['age','workclass','fnlwgt','education','education-num',\n",
        "        'marital-status','occupation','relationship','race','sex',\n",
        "        'capital-gain','capital-loss','hours-per-week','native-country',\n",
        "        'y']\n",
        "\n",
        "#Load dataset\n",
        "df = pd.read_csv(path_file ,names=names,na_values='?')\n",
        "df = df.dropna()"
      ]
    },
    {
      "cell_type": "code",
      "source": [
        "df.head()"
      ],
      "metadata": {
        "colab": {
          "base_uri": "https://localhost:8080/",
          "height": 337
        },
        "id": "P66OOtf-M85M",
        "outputId": "22a3bb1b-fcfa-4f34-f482-aee7729b9bff"
      },
      "execution_count": 4,
      "outputs": [
        {
          "output_type": "execute_result",
          "data": {
            "text/plain": [
              "   age          workclass  fnlwgt   education  education-num  \\\n",
              "0   39          State-gov   77516   Bachelors             13   \n",
              "1   50   Self-emp-not-inc   83311   Bachelors             13   \n",
              "2   38            Private  215646     HS-grad              9   \n",
              "3   53            Private  234721        11th              7   \n",
              "4   28            Private  338409   Bachelors             13   \n",
              "\n",
              "        marital-status          occupation    relationship    race      sex  \\\n",
              "0        Never-married        Adm-clerical   Not-in-family   White     Male   \n",
              "1   Married-civ-spouse     Exec-managerial         Husband   White     Male   \n",
              "2             Divorced   Handlers-cleaners   Not-in-family   White     Male   \n",
              "3   Married-civ-spouse   Handlers-cleaners         Husband   Black     Male   \n",
              "4   Married-civ-spouse      Prof-specialty            Wife   Black   Female   \n",
              "\n",
              "   capital-gain  capital-loss  hours-per-week  native-country       y  \n",
              "0          2174             0              40   United-States   <=50K  \n",
              "1             0             0              13   United-States   <=50K  \n",
              "2             0             0              40   United-States   <=50K  \n",
              "3             0             0              40   United-States   <=50K  \n",
              "4             0             0              40            Cuba   <=50K  "
            ],
            "text/html": [
              "\n",
              "  <div id=\"df-532bc7f6-d0ed-4852-8254-0251af4fed70\">\n",
              "    <div class=\"colab-df-container\">\n",
              "      <div>\n",
              "<style scoped>\n",
              "    .dataframe tbody tr th:only-of-type {\n",
              "        vertical-align: middle;\n",
              "    }\n",
              "\n",
              "    .dataframe tbody tr th {\n",
              "        vertical-align: top;\n",
              "    }\n",
              "\n",
              "    .dataframe thead th {\n",
              "        text-align: right;\n",
              "    }\n",
              "</style>\n",
              "<table border=\"1\" class=\"dataframe\">\n",
              "  <thead>\n",
              "    <tr style=\"text-align: right;\">\n",
              "      <th></th>\n",
              "      <th>age</th>\n",
              "      <th>workclass</th>\n",
              "      <th>fnlwgt</th>\n",
              "      <th>education</th>\n",
              "      <th>education-num</th>\n",
              "      <th>marital-status</th>\n",
              "      <th>occupation</th>\n",
              "      <th>relationship</th>\n",
              "      <th>race</th>\n",
              "      <th>sex</th>\n",
              "      <th>capital-gain</th>\n",
              "      <th>capital-loss</th>\n",
              "      <th>hours-per-week</th>\n",
              "      <th>native-country</th>\n",
              "      <th>y</th>\n",
              "    </tr>\n",
              "  </thead>\n",
              "  <tbody>\n",
              "    <tr>\n",
              "      <th>0</th>\n",
              "      <td>39</td>\n",
              "      <td>State-gov</td>\n",
              "      <td>77516</td>\n",
              "      <td>Bachelors</td>\n",
              "      <td>13</td>\n",
              "      <td>Never-married</td>\n",
              "      <td>Adm-clerical</td>\n",
              "      <td>Not-in-family</td>\n",
              "      <td>White</td>\n",
              "      <td>Male</td>\n",
              "      <td>2174</td>\n",
              "      <td>0</td>\n",
              "      <td>40</td>\n",
              "      <td>United-States</td>\n",
              "      <td>&lt;=50K</td>\n",
              "    </tr>\n",
              "    <tr>\n",
              "      <th>1</th>\n",
              "      <td>50</td>\n",
              "      <td>Self-emp-not-inc</td>\n",
              "      <td>83311</td>\n",
              "      <td>Bachelors</td>\n",
              "      <td>13</td>\n",
              "      <td>Married-civ-spouse</td>\n",
              "      <td>Exec-managerial</td>\n",
              "      <td>Husband</td>\n",
              "      <td>White</td>\n",
              "      <td>Male</td>\n",
              "      <td>0</td>\n",
              "      <td>0</td>\n",
              "      <td>13</td>\n",
              "      <td>United-States</td>\n",
              "      <td>&lt;=50K</td>\n",
              "    </tr>\n",
              "    <tr>\n",
              "      <th>2</th>\n",
              "      <td>38</td>\n",
              "      <td>Private</td>\n",
              "      <td>215646</td>\n",
              "      <td>HS-grad</td>\n",
              "      <td>9</td>\n",
              "      <td>Divorced</td>\n",
              "      <td>Handlers-cleaners</td>\n",
              "      <td>Not-in-family</td>\n",
              "      <td>White</td>\n",
              "      <td>Male</td>\n",
              "      <td>0</td>\n",
              "      <td>0</td>\n",
              "      <td>40</td>\n",
              "      <td>United-States</td>\n",
              "      <td>&lt;=50K</td>\n",
              "    </tr>\n",
              "    <tr>\n",
              "      <th>3</th>\n",
              "      <td>53</td>\n",
              "      <td>Private</td>\n",
              "      <td>234721</td>\n",
              "      <td>11th</td>\n",
              "      <td>7</td>\n",
              "      <td>Married-civ-spouse</td>\n",
              "      <td>Handlers-cleaners</td>\n",
              "      <td>Husband</td>\n",
              "      <td>Black</td>\n",
              "      <td>Male</td>\n",
              "      <td>0</td>\n",
              "      <td>0</td>\n",
              "      <td>40</td>\n",
              "      <td>United-States</td>\n",
              "      <td>&lt;=50K</td>\n",
              "    </tr>\n",
              "    <tr>\n",
              "      <th>4</th>\n",
              "      <td>28</td>\n",
              "      <td>Private</td>\n",
              "      <td>338409</td>\n",
              "      <td>Bachelors</td>\n",
              "      <td>13</td>\n",
              "      <td>Married-civ-spouse</td>\n",
              "      <td>Prof-specialty</td>\n",
              "      <td>Wife</td>\n",
              "      <td>Black</td>\n",
              "      <td>Female</td>\n",
              "      <td>0</td>\n",
              "      <td>0</td>\n",
              "      <td>40</td>\n",
              "      <td>Cuba</td>\n",
              "      <td>&lt;=50K</td>\n",
              "    </tr>\n",
              "  </tbody>\n",
              "</table>\n",
              "</div>\n",
              "      <button class=\"colab-df-convert\" onclick=\"convertToInteractive('df-532bc7f6-d0ed-4852-8254-0251af4fed70')\"\n",
              "              title=\"Convert this dataframe to an interactive table.\"\n",
              "              style=\"display:none;\">\n",
              "        \n",
              "  <svg xmlns=\"http://www.w3.org/2000/svg\" height=\"24px\"viewBox=\"0 0 24 24\"\n",
              "       width=\"24px\">\n",
              "    <path d=\"M0 0h24v24H0V0z\" fill=\"none\"/>\n",
              "    <path d=\"M18.56 5.44l.94 2.06.94-2.06 2.06-.94-2.06-.94-.94-2.06-.94 2.06-2.06.94zm-11 1L8.5 8.5l.94-2.06 2.06-.94-2.06-.94L8.5 2.5l-.94 2.06-2.06.94zm10 10l.94 2.06.94-2.06 2.06-.94-2.06-.94-.94-2.06-.94 2.06-2.06.94z\"/><path d=\"M17.41 7.96l-1.37-1.37c-.4-.4-.92-.59-1.43-.59-.52 0-1.04.2-1.43.59L10.3 9.45l-7.72 7.72c-.78.78-.78 2.05 0 2.83L4 21.41c.39.39.9.59 1.41.59.51 0 1.02-.2 1.41-.59l7.78-7.78 2.81-2.81c.8-.78.8-2.07 0-2.86zM5.41 20L4 18.59l7.72-7.72 1.47 1.35L5.41 20z\"/>\n",
              "  </svg>\n",
              "      </button>\n",
              "      \n",
              "  <style>\n",
              "    .colab-df-container {\n",
              "      display:flex;\n",
              "      flex-wrap:wrap;\n",
              "      gap: 12px;\n",
              "    }\n",
              "\n",
              "    .colab-df-convert {\n",
              "      background-color: #E8F0FE;\n",
              "      border: none;\n",
              "      border-radius: 50%;\n",
              "      cursor: pointer;\n",
              "      display: none;\n",
              "      fill: #1967D2;\n",
              "      height: 32px;\n",
              "      padding: 0 0 0 0;\n",
              "      width: 32px;\n",
              "    }\n",
              "\n",
              "    .colab-df-convert:hover {\n",
              "      background-color: #E2EBFA;\n",
              "      box-shadow: 0px 1px 2px rgba(60, 64, 67, 0.3), 0px 1px 3px 1px rgba(60, 64, 67, 0.15);\n",
              "      fill: #174EA6;\n",
              "    }\n",
              "\n",
              "    [theme=dark] .colab-df-convert {\n",
              "      background-color: #3B4455;\n",
              "      fill: #D2E3FC;\n",
              "    }\n",
              "\n",
              "    [theme=dark] .colab-df-convert:hover {\n",
              "      background-color: #434B5C;\n",
              "      box-shadow: 0px 1px 3px 1px rgba(0, 0, 0, 0.15);\n",
              "      filter: drop-shadow(0px 1px 2px rgba(0, 0, 0, 0.3));\n",
              "      fill: #FFFFFF;\n",
              "    }\n",
              "  </style>\n",
              "\n",
              "      <script>\n",
              "        const buttonEl =\n",
              "          document.querySelector('#df-532bc7f6-d0ed-4852-8254-0251af4fed70 button.colab-df-convert');\n",
              "        buttonEl.style.display =\n",
              "          google.colab.kernel.accessAllowed ? 'block' : 'none';\n",
              "\n",
              "        async function convertToInteractive(key) {\n",
              "          const element = document.querySelector('#df-532bc7f6-d0ed-4852-8254-0251af4fed70');\n",
              "          const dataTable =\n",
              "            await google.colab.kernel.invokeFunction('convertToInteractive',\n",
              "                                                     [key], {});\n",
              "          if (!dataTable) return;\n",
              "\n",
              "          const docLinkHtml = 'Like what you see? Visit the ' +\n",
              "            '<a target=\"_blank\" href=https://colab.research.google.com/notebooks/data_table.ipynb>data table notebook</a>'\n",
              "            + ' to learn more about interactive tables.';\n",
              "          element.innerHTML = '';\n",
              "          dataTable['output_type'] = 'display_data';\n",
              "          await google.colab.output.renderOutput(dataTable, element);\n",
              "          const docLink = document.createElement('div');\n",
              "          docLink.innerHTML = docLinkHtml;\n",
              "          element.appendChild(docLink);\n",
              "        }\n",
              "      </script>\n",
              "    </div>\n",
              "  </div>\n",
              "  "
            ]
          },
          "metadata": {},
          "execution_count": 4
        }
      ]
    },
    {
      "cell_type": "code",
      "source": [
        "null_columns = df.columns[df.isnull().any()].tolist()\n",
        "print(f'Number of columns with missing values: {len(null_columns)}')"
      ],
      "metadata": {
        "colab": {
          "base_uri": "https://localhost:8080/"
        },
        "id": "EyYFXcfdzma_",
        "outputId": "d486314f-ce85-4ee8-fe95-701af3770f92"
      },
      "execution_count": 6,
      "outputs": [
        {
          "output_type": "stream",
          "name": "stdout",
          "text": [
            "Number of columns with missing values: 0\n"
          ]
        }
      ]
    },
    {
      "cell_type": "markdown",
      "metadata": {
        "id": "4XwMujyMGFiw"
      },
      "source": [
        "## Data Analysis"
      ]
    },
    {
      "cell_type": "markdown",
      "metadata": {
        "id": "X0-NA86UGFiw"
      },
      "source": [
        "#### We will first do some exploratory data analysis to get a better understadning of the distribution of sensitive variables like race and gender that can make the dataset biased."
      ]
    },
    {
      "cell_type": "code",
      "execution_count": 7,
      "metadata": {
        "id": "Qz75aiO6GFix",
        "colab": {
          "base_uri": "https://localhost:8080/",
          "height": 286
        },
        "outputId": "0d116051-ba1a-4b43-9bbe-fdd85c5a4fbd"
      },
      "outputs": [
        {
          "output_type": "execute_result",
          "data": {
            "text/plain": [
              "Text(0.5, 1.0, 'Race')"
            ]
          },
          "metadata": {},
          "execution_count": 7
        },
        {
          "output_type": "display_data",
          "data": {
            "text/plain": [
              "<Figure size 432x288 with 1 Axes>"
            ],
            "image/png": "[encoded data removed]"
          },
          "metadata": {}
        }
      ],
      "source": [
        "#TASK 1\n",
        "#Get the popluation count by race\n",
        "\n",
        "################\n",
        "\n",
        "counts = df.groupby(\"race\").size()\n",
        "\n",
        "################\n",
        "\n",
        "labels = counts.index\n",
        "\n",
        "#Plot pie chart\n",
        "plt.pie(counts, startangle=90)\n",
        "plt.legend(labels, loc=4,fontsize=8)\n",
        "plt.title(\"Race\",size=20)"
      ]
    },
    {
      "cell_type": "code",
      "execution_count": 9,
      "metadata": {
        "id": "LncbnodeGFiy",
        "colab": {
          "base_uri": "https://localhost:8080/",
          "height": 286
        },
        "outputId": "e31c3826-60ef-40a2-9a71-eb68ec2666be"
      },
      "outputs": [
        {
          "output_type": "execute_result",
          "data": {
            "text/plain": [
              "Text(0.5, 1.0, 'Sex')"
            ]
          },
          "metadata": {},
          "execution_count": 9
        },
        {
          "output_type": "display_data",
          "data": {
            "text/plain": [
              "<Figure size 432x288 with 1 Axes>"
            ],
            "image/png": "[encoded data removed]"
          },
          "metadata": {}
        }
      ],
      "source": [
        "from itertools import groupby\n",
        "#TASK 2\n",
        "\n",
        "#Get the popluation count by Sex\n",
        "\n",
        "################\n",
        "\n",
        "counts = df.groupby('sex').size()\n",
        "\n",
        "################\n",
        "\n",
        "labels = counts.index\n",
        "\n",
        "#Plot pie chart\n",
        "plt.pie(counts, startangle=90)\n",
        "plt.legend(labels, loc=2,fontsize=8)\n",
        "plt.title(\"Sex\",size=20)"
      ]
    },
    {
      "cell_type": "markdown",
      "metadata": {
        "id": "Y0NbpyqTGFiz"
      },
      "source": [
        "#### Question: What do you notice in the distribution of different values of race and gender?"
      ]
    },
    {
      "cell_type": "markdown",
      "metadata": {
        "id": "DW1eTqTzGFiz"
      },
      "source": [
        "#### Defining protected features\n"
      ]
    },
    {
      "cell_type": "markdown",
      "metadata": {
        "id": "kUh15nPrGFiz"
      },
      "source": [
        "##### Before we move on, we will need to define our protected features. We do this by creating binary variables using the sensitive attributes. We define the variable so that 1 represents a privileged group and 0 represents an unprivileged group."
      ]
    },
    {
      "cell_type": "code",
      "execution_count": 10,
      "metadata": {
        "id": "nIvi_YZ8GFi0",
        "colab": {
          "base_uri": "https://localhost:8080/"
        },
        "outputId": "4b1b9146-f05f-4975-aa33-d1e205bc1322"
      },
      "outputs": [
        {
          "output_type": "stream",
          "name": "stderr",
          "text": [
            "<ipython-input-10-48af44a4c718>:9: SettingWithCopyWarning: \n",
            "A value is trying to be set on a copy of a slice from a DataFrame.\n",
            "Try using .loc[row_indexer,col_indexer] = value instead\n",
            "\n",
            "See the caveats in the documentation: https://pandas.pydata.org/pandas-docs/stable/user_guide/indexing.html#returning-a-view-versus-a-copy\n",
            "  df_fair['priv_race'] = [1 if r==' White' else 0 for r in df_fair['race']]\n",
            "<ipython-input-10-48af44a4c718>:10: SettingWithCopyWarning: \n",
            "A value is trying to be set on a copy of a slice from a DataFrame.\n",
            "Try using .loc[row_indexer,col_indexer] = value instead\n",
            "\n",
            "See the caveats in the documentation: https://pandas.pydata.org/pandas-docs/stable/user_guide/indexing.html#returning-a-view-versus-a-copy\n",
            "  df_fair['priv_sex'] = [1 if s==' Male' else 0 for s in df_fair['sex']]\n",
            "<ipython-input-10-48af44a4c718>:13: SettingWithCopyWarning: \n",
            "A value is trying to be set on a copy of a slice from a DataFrame.\n",
            "Try using .loc[row_indexer,col_indexer] = value instead\n",
            "\n",
            "See the caveats in the documentation: https://pandas.pydata.org/pandas-docs/stable/user_guide/indexing.html#returning-a-view-versus-a-copy\n",
            "  df_fair['y'] =  [1 if y == ' >50K'else 0 for y in df['y']]\n"
          ]
        }
      ],
      "source": [
        "# We define these features using the code below. For race, we define \n",
        "# the protected feature so that “White” is the privileged group. \n",
        "# That is the variable has a value of 1 if the person is white and \n",
        "# 0 otherwise. For sex, “Male” is the privileged group. \n",
        "\n",
        "df_fair = df[['race','sex']]\n",
        "\n",
        "#Define protected features \n",
        "df_fair['priv_race'] = [1 if r==' White' else 0 for r in df_fair['race']]\n",
        "df_fair['priv_sex'] = [1 if s==' Male' else 0 for s in df_fair['sex']]\n",
        "\n",
        "#Define target variable \n",
        "df_fair['y'] =  [1 if y == ' >50K'else 0 for y in df['y']]"
      ]
    },
    {
      "cell_type": "markdown",
      "metadata": {
        "id": "d3txbQHOGFi0"
      },
      "source": [
        "## Bias and Prevalence"
      ]
    },
    {
      "cell_type": "markdown",
      "metadata": {
        "id": "KM9CWeotGFi0"
      },
      "source": [
        "#### For a target variable, prevalence is the proportion of the positive cases to overall cases. Where a positive case is when the target variable has a value of 1. Our dataset has an overall prevalence of 24.8%. That is roughly 1/4 of the people in our dataset earn above $50K. We can also use prevalence as an indicator of bias in our dataset. Ideally, in datasets with no bias, prevalence of all features, irrespective of their values should be the same."
      ]
    },
    {
      "cell_type": "code",
      "execution_count": 14,
      "metadata": {
        "id": "FoDG2X8BGFi0",
        "colab": {
          "base_uri": "https://localhost:8080/"
        },
        "outputId": "b5ac6db5-9242-4483-83e3-cef60b48e56e"
      },
      "outputs": [
        {
          "output_type": "stream",
          "name": "stdout",
          "text": [
            "0.2408095574460244\n",
            "race\n",
            "priv_race\n",
            "0    0.152582\n",
            "1    0.255860\n",
            "Name: y, dtype: float64\n",
            "sex\n",
            "priv_sex\n",
            "0    0.109461\n",
            "1    0.305737\n",
            "Name: y, dtype: float64\n",
            "comb\n",
            "priv_race  priv_sex\n",
            "0          0           0.070925\n",
            "           1           0.219037\n",
            "1          0           0.118954\n",
            "           1           0.317565\n",
            "Name: y, dtype: float64\n"
          ]
        }
      ],
      "source": [
        "# TASK 3\n",
        "\n",
        "#Calculate the prevelance\n",
        "#Look into the groupby operation for pandas\n",
        "\n",
        "####\n",
        "#Calculate the prevelance of target variable of y\n",
        "prev = df_fair['y'].mean()\n",
        "print(prev)\n",
        "\n",
        "####\n",
        "#Calculate the prevelance of priv_race with respect to y\n",
        "prev_race = df_fair.groupby('priv_race')['y'].mean()\n",
        "print('race')\n",
        "print(prev_race)\n",
        "\n",
        "####\n",
        "#Calculate the prevelance of priv_Sex with respect to y\n",
        "prev_sex = df_fair.groupby('priv_sex')['y'].mean()\n",
        "print('sex')\n",
        "print(prev_sex)\n",
        "\n",
        "####\n",
        "#Calculate the combined prevelance of priv_race and priv_sex with respect to y\n",
        "prev_comb = df_fair.groupby(['priv_race','priv_sex'])['y'].mean()\n",
        "print('comb')\n",
        "print(prev_comb)\n",
        "\n",
        "\n"
      ]
    },
    {
      "cell_type": "code",
      "source": [
        "df_fair.head()"
      ],
      "metadata": {
        "colab": {
          "base_uri": "https://localhost:8080/",
          "height": 206
        },
        "id": "p7bmgfXD-Z7j",
        "outputId": "37b7a121-923b-482d-ec0e-70d6a62251ad"
      },
      "execution_count": 13,
      "outputs": [
        {
          "output_type": "execute_result",
          "data": {
            "text/plain": [
              "     race      sex  priv_race  priv_sex  y\n",
              "0   White     Male          1         1  0\n",
              "1   White     Male          1         1  0\n",
              "2   White     Male          1         1  0\n",
              "3   Black     Male          0         1  0\n",
              "4   Black   Female          0         0  0"
            ],
            "text/html": [
              "\n",
              "  <div id=\"df-8b48855b-7574-4885-9e9e-47d3208993b9\">\n",
              "    <div class=\"colab-df-container\">\n",
              "      <div>\n",
              "<style scoped>\n",
              "    .dataframe tbody tr th:only-of-type {\n",
              "        vertical-align: middle;\n",
              "    }\n",
              "\n",
              "    .dataframe tbody tr th {\n",
              "        vertical-align: top;\n",
              "    }\n",
              "\n",
              "    .dataframe thead th {\n",
              "        text-align: right;\n",
              "    }\n",
              "</style>\n",
              "<table border=\"1\" class=\"dataframe\">\n",
              "  <thead>\n",
              "    <tr style=\"text-align: right;\">\n",
              "      <th></th>\n",
              "      <th>race</th>\n",
              "      <th>sex</th>\n",
              "      <th>priv_race</th>\n",
              "      <th>priv_sex</th>\n",
              "      <th>y</th>\n",
              "    </tr>\n",
              "  </thead>\n",
              "  <tbody>\n",
              "    <tr>\n",
              "      <th>0</th>\n",
              "      <td>White</td>\n",
              "      <td>Male</td>\n",
              "      <td>1</td>\n",
              "      <td>1</td>\n",
              "      <td>0</td>\n",
              "    </tr>\n",
              "    <tr>\n",
              "      <th>1</th>\n",
              "      <td>White</td>\n",
              "      <td>Male</td>\n",
              "      <td>1</td>\n",
              "      <td>1</td>\n",
              "      <td>0</td>\n",
              "    </tr>\n",
              "    <tr>\n",
              "      <th>2</th>\n",
              "      <td>White</td>\n",
              "      <td>Male</td>\n",
              "      <td>1</td>\n",
              "      <td>1</td>\n",
              "      <td>0</td>\n",
              "    </tr>\n",
              "    <tr>\n",
              "      <th>3</th>\n",
              "      <td>Black</td>\n",
              "      <td>Male</td>\n",
              "      <td>0</td>\n",
              "      <td>1</td>\n",
              "      <td>0</td>\n",
              "    </tr>\n",
              "    <tr>\n",
              "      <th>4</th>\n",
              "      <td>Black</td>\n",
              "      <td>Female</td>\n",
              "      <td>0</td>\n",
              "      <td>0</td>\n",
              "      <td>0</td>\n",
              "    </tr>\n",
              "  </tbody>\n",
              "</table>\n",
              "</div>\n",
              "      <button class=\"colab-df-convert\" onclick=\"convertToInteractive('df-8b48855b-7574-4885-9e9e-47d3208993b9')\"\n",
              "              title=\"Convert this dataframe to an interactive table.\"\n",
              "              style=\"display:none;\">\n",
              "        \n",
              "  <svg xmlns=\"http://www.w3.org/2000/svg\" height=\"24px\"viewBox=\"0 0 24 24\"\n",
              "       width=\"24px\">\n",
              "    <path d=\"M0 0h24v24H0V0z\" fill=\"none\"/>\n",
              "    <path d=\"M18.56 5.44l.94 2.06.94-2.06 2.06-.94-2.06-.94-.94-2.06-.94 2.06-2.06.94zm-11 1L8.5 8.5l.94-2.06 2.06-.94-2.06-.94L8.5 2.5l-.94 2.06-2.06.94zm10 10l.94 2.06.94-2.06 2.06-.94-2.06-.94-.94-2.06-.94 2.06-2.06.94z\"/><path d=\"M17.41 7.96l-1.37-1.37c-.4-.4-.92-.59-1.43-.59-.52 0-1.04.2-1.43.59L10.3 9.45l-7.72 7.72c-.78.78-.78 2.05 0 2.83L4 21.41c.39.39.9.59 1.41.59.51 0 1.02-.2 1.41-.59l7.78-7.78 2.81-2.81c.8-.78.8-2.07 0-2.86zM5.41 20L4 18.59l7.72-7.72 1.47 1.35L5.41 20z\"/>\n",
              "  </svg>\n",
              "      </button>\n",
              "      \n",
              "  <style>\n",
              "    .colab-df-container {\n",
              "      display:flex;\n",
              "      flex-wrap:wrap;\n",
              "      gap: 12px;\n",
              "    }\n",
              "\n",
              "    .colab-df-convert {\n",
              "      background-color: #E8F0FE;\n",
              "      border: none;\n",
              "      border-radius: 50%;\n",
              "      cursor: pointer;\n",
              "      display: none;\n",
              "      fill: #1967D2;\n",
              "      height: 32px;\n",
              "      padding: 0 0 0 0;\n",
              "      width: 32px;\n",
              "    }\n",
              "\n",
              "    .colab-df-convert:hover {\n",
              "      background-color: #E2EBFA;\n",
              "      box-shadow: 0px 1px 2px rgba(60, 64, 67, 0.3), 0px 1px 3px 1px rgba(60, 64, 67, 0.15);\n",
              "      fill: #174EA6;\n",
              "    }\n",
              "\n",
              "    [theme=dark] .colab-df-convert {\n",
              "      background-color: #3B4455;\n",
              "      fill: #D2E3FC;\n",
              "    }\n",
              "\n",
              "    [theme=dark] .colab-df-convert:hover {\n",
              "      background-color: #434B5C;\n",
              "      box-shadow: 0px 1px 3px 1px rgba(0, 0, 0, 0.15);\n",
              "      filter: drop-shadow(0px 1px 2px rgba(0, 0, 0, 0.3));\n",
              "      fill: #FFFFFF;\n",
              "    }\n",
              "  </style>\n",
              "\n",
              "      <script>\n",
              "        const buttonEl =\n",
              "          document.querySelector('#df-8b48855b-7574-4885-9e9e-47d3208993b9 button.colab-df-convert');\n",
              "        buttonEl.style.display =\n",
              "          google.colab.kernel.accessAllowed ? 'block' : 'none';\n",
              "\n",
              "        async function convertToInteractive(key) {\n",
              "          const element = document.querySelector('#df-8b48855b-7574-4885-9e9e-47d3208993b9');\n",
              "          const dataTable =\n",
              "            await google.colab.kernel.invokeFunction('convertToInteractive',\n",
              "                                                     [key], {});\n",
              "          if (!dataTable) return;\n",
              "\n",
              "          const docLinkHtml = 'Like what you see? Visit the ' +\n",
              "            '<a target=\"_blank\" href=https://colab.research.google.com/notebooks/data_table.ipynb>data table notebook</a>'\n",
              "            + ' to learn more about interactive tables.';\n",
              "          element.innerHTML = '';\n",
              "          dataTable['output_type'] = 'display_data';\n",
              "          await google.colab.output.renderOutput(dataTable, element);\n",
              "          const docLink = document.createElement('div');\n",
              "          docLink.innerHTML = docLinkHtml;\n",
              "          element.appendChild(docLink);\n",
              "        }\n",
              "      </script>\n",
              "    </div>\n",
              "  </div>\n",
              "  "
            ]
          },
          "metadata": {},
          "execution_count": 13
        }
      ]
    },
    {
      "cell_type": "markdown",
      "metadata": {
        "id": "8aTm_XcnGFi1"
      },
      "source": [
        "#### Question: What do you notice about the difference in prevelence between privileged and underpriveleged race and sex?"
      ]
    },
    {
      "cell_type": "markdown",
      "metadata": {
        "id": "b8tJqF7IGFi1"
      },
      "source": [
        "#### At this point, you should be asking yourself why we have these large differences in prevalence. The dataset was built using United States census data from 1994. The country has a history of discrimination based on gender and race. Ultimately, the target variable reflects this discrimination. In this sense, prevalence can be used to understand the extent to which historical injustice is embedded in our target variable."
      ]
    },
    {
      "cell_type": "code",
      "execution_count": 15,
      "metadata": {
        "id": "-TeiZTInGFi1",
        "colab": {
          "base_uri": "https://localhost:8080/",
          "height": 518
        },
        "outputId": "ae910f33-4aaa-4e40-c6a9-0d8ff7750def"
      },
      "outputs": [
        {
          "output_type": "stream",
          "name": "stderr",
          "text": [
            "<ipython-input-15-9baefa97e907>:6: SettingWithCopyWarning: \n",
            "A value is trying to be set on a copy of a slice from a DataFrame.\n",
            "Try using .loc[row_indexer,col_indexer] = value instead\n",
            "\n",
            "See the caveats in the documentation: https://pandas.pydata.org/pandas-docs/stable/user_guide/indexing.html#returning-a-view-versus-a-copy\n",
            "  X['marital-status'] = [1 if x==' Married-civ-spouse' else 0 for x in df['marital-status']]\n",
            "<ipython-input-15-9baefa97e907>:7: SettingWithCopyWarning: \n",
            "A value is trying to be set on a copy of a slice from a DataFrame.\n",
            "Try using .loc[row_indexer,col_indexer] = value instead\n",
            "\n",
            "See the caveats in the documentation: https://pandas.pydata.org/pandas-docs/stable/user_guide/indexing.html#returning-a-view-versus-a-copy\n",
            "  X['native-country'] = [1 if x==' United-States' else 0 for x in df['native-country']]\n",
            "<ipython-input-15-9baefa97e907>:16: SettingWithCopyWarning: \n",
            "A value is trying to be set on a copy of a slice from a DataFrame.\n",
            "Try using .loc[row_indexer,col_indexer] = value instead\n",
            "\n",
            "See the caveats in the documentation: https://pandas.pydata.org/pandas-docs/stable/user_guide/indexing.html#returning-a-view-versus-a-copy\n",
            "  X['occupation'] = [occ_groups[x] for x in df['occupation']]\n"
          ]
        },
        {
          "output_type": "execute_result",
          "data": {
            "text/plain": [
              "   age  education-num  hours-per-week  marital-status  native-country  \\\n",
              "0   39             13              40               0               1   \n",
              "1   50             13              13               1               1   \n",
              "2   38              9              40               0               1   \n",
              "3   53              7              40               1               1   \n",
              "4   28             13              40               1               0   \n",
              "\n",
              "   occupation  \n",
              "0           1  \n",
              "1           4  \n",
              "2           0  \n",
              "3           0  \n",
              "4           4  "
            ],
            "text/html": [
              "\n",
              "  <div id=\"df-39114184-093f-4eb4-9dda-9b07715014ef\">\n",
              "    <div class=\"colab-df-container\">\n",
              "      <div>\n",
              "<style scoped>\n",
              "    .dataframe tbody tr th:only-of-type {\n",
              "        vertical-align: middle;\n",
              "    }\n",
              "\n",
              "    .dataframe tbody tr th {\n",
              "        vertical-align: top;\n",
              "    }\n",
              "\n",
              "    .dataframe thead th {\n",
              "        text-align: right;\n",
              "    }\n",
              "</style>\n",
              "<table border=\"1\" class=\"dataframe\">\n",
              "  <thead>\n",
              "    <tr style=\"text-align: right;\">\n",
              "      <th></th>\n",
              "      <th>age</th>\n",
              "      <th>education-num</th>\n",
              "      <th>hours-per-week</th>\n",
              "      <th>marital-status</th>\n",
              "      <th>native-country</th>\n",
              "      <th>occupation</th>\n",
              "    </tr>\n",
              "  </thead>\n",
              "  <tbody>\n",
              "    <tr>\n",
              "      <th>0</th>\n",
              "      <td>39</td>\n",
              "      <td>13</td>\n",
              "      <td>40</td>\n",
              "      <td>0</td>\n",
              "      <td>1</td>\n",
              "      <td>1</td>\n",
              "    </tr>\n",
              "    <tr>\n",
              "      <th>1</th>\n",
              "      <td>50</td>\n",
              "      <td>13</td>\n",
              "      <td>13</td>\n",
              "      <td>1</td>\n",
              "      <td>1</td>\n",
              "      <td>4</td>\n",
              "    </tr>\n",
              "    <tr>\n",
              "      <th>2</th>\n",
              "      <td>38</td>\n",
              "      <td>9</td>\n",
              "      <td>40</td>\n",
              "      <td>0</td>\n",
              "      <td>1</td>\n",
              "      <td>0</td>\n",
              "    </tr>\n",
              "    <tr>\n",
              "      <th>3</th>\n",
              "      <td>53</td>\n",
              "      <td>7</td>\n",
              "      <td>40</td>\n",
              "      <td>1</td>\n",
              "      <td>1</td>\n",
              "      <td>0</td>\n",
              "    </tr>\n",
              "    <tr>\n",
              "      <th>4</th>\n",
              "      <td>28</td>\n",
              "      <td>13</td>\n",
              "      <td>40</td>\n",
              "      <td>1</td>\n",
              "      <td>0</td>\n",
              "      <td>4</td>\n",
              "    </tr>\n",
              "  </tbody>\n",
              "</table>\n",
              "</div>\n",
              "      <button class=\"colab-df-convert\" onclick=\"convertToInteractive('df-39114184-093f-4eb4-9dda-9b07715014ef')\"\n",
              "              title=\"Convert this dataframe to an interactive table.\"\n",
              "              style=\"display:none;\">\n",
              "        \n",
              "  <svg xmlns=\"http://www.w3.org/2000/svg\" height=\"24px\"viewBox=\"0 0 24 24\"\n",
              "       width=\"24px\">\n",
              "    <path d=\"M0 0h24v24H0V0z\" fill=\"none\"/>\n",
              "    <path d=\"M18.56 5.44l.94 2.06.94-2.06 2.06-.94-2.06-.94-.94-2.06-.94 2.06-2.06.94zm-11 1L8.5 8.5l.94-2.06 2.06-.94-2.06-.94L8.5 2.5l-.94 2.06-2.06.94zm10 10l.94 2.06.94-2.06 2.06-.94-2.06-.94-.94-2.06-.94 2.06-2.06.94z\"/><path d=\"M17.41 7.96l-1.37-1.37c-.4-.4-.92-.59-1.43-.59-.52 0-1.04.2-1.43.59L10.3 9.45l-7.72 7.72c-.78.78-.78 2.05 0 2.83L4 21.41c.39.39.9.59 1.41.59.51 0 1.02-.2 1.41-.59l7.78-7.78 2.81-2.81c.8-.78.8-2.07 0-2.86zM5.41 20L4 18.59l7.72-7.72 1.47 1.35L5.41 20z\"/>\n",
              "  </svg>\n",
              "      </button>\n",
              "      \n",
              "  <style>\n",
              "    .colab-df-container {\n",
              "      display:flex;\n",
              "      flex-wrap:wrap;\n",
              "      gap: 12px;\n",
              "    }\n",
              "\n",
              "    .colab-df-convert {\n",
              "      background-color: #E8F0FE;\n",
              "      border: none;\n",
              "      border-radius: 50%;\n",
              "      cursor: pointer;\n",
              "      display: none;\n",
              "      fill: #1967D2;\n",
              "      height: 32px;\n",
              "      padding: 0 0 0 0;\n",
              "      width: 32px;\n",
              "    }\n",
              "\n",
              "    .colab-df-convert:hover {\n",
              "      background-color: #E2EBFA;\n",
              "      box-shadow: 0px 1px 2px rgba(60, 64, 67, 0.3), 0px 1px 3px 1px rgba(60, 64, 67, 0.15);\n",
              "      fill: #174EA6;\n",
              "    }\n",
              "\n",
              "    [theme=dark] .colab-df-convert {\n",
              "      background-color: #3B4455;\n",
              "      fill: #D2E3FC;\n",
              "    }\n",
              "\n",
              "    [theme=dark] .colab-df-convert:hover {\n",
              "      background-color: #434B5C;\n",
              "      box-shadow: 0px 1px 3px 1px rgba(0, 0, 0, 0.15);\n",
              "      filter: drop-shadow(0px 1px 2px rgba(0, 0, 0, 0.3));\n",
              "      fill: #FFFFFF;\n",
              "    }\n",
              "  </style>\n",
              "\n",
              "      <script>\n",
              "        const buttonEl =\n",
              "          document.querySelector('#df-39114184-093f-4eb4-9dda-9b07715014ef button.colab-df-convert');\n",
              "        buttonEl.style.display =\n",
              "          google.colab.kernel.accessAllowed ? 'block' : 'none';\n",
              "\n",
              "        async function convertToInteractive(key) {\n",
              "          const element = document.querySelector('#df-39114184-093f-4eb4-9dda-9b07715014ef');\n",
              "          const dataTable =\n",
              "            await google.colab.kernel.invokeFunction('convertToInteractive',\n",
              "                                                     [key], {});\n",
              "          if (!dataTable) return;\n",
              "\n",
              "          const docLinkHtml = 'Like what you see? Visit the ' +\n",
              "            '<a target=\"_blank\" href=https://colab.research.google.com/notebooks/data_table.ipynb>data table notebook</a>'\n",
              "            + ' to learn more about interactive tables.';\n",
              "          element.innerHTML = '';\n",
              "          dataTable['output_type'] = 'display_data';\n",
              "          await google.colab.output.renderOutput(dataTable, element);\n",
              "          const docLink = document.createElement('div');\n",
              "          docLink.innerHTML = docLinkHtml;\n",
              "          element.appendChild(docLink);\n",
              "        }\n",
              "      </script>\n",
              "    </div>\n",
              "  </div>\n",
              "  "
            ]
          },
          "metadata": {},
          "execution_count": 15
        }
      ],
      "source": [
        "#Target variable \n",
        "y = [1 if y == ' >50K' else 0 for y in df['y']]\n",
        "\n",
        "#Model features\n",
        "X = df[['age','education-num','hours-per-week']]\n",
        "X['marital-status'] = [1 if x==' Married-civ-spouse' else 0 for x in df['marital-status']] \n",
        "X['native-country'] = [1 if x==' United-States' else 0 for x in df['native-country']] \n",
        "\n",
        "occ_groups = {\n",
        "    ' Priv-house-serv':0,' Other-service':0,' Handlers-cleaners':0,\n",
        "    ' Farming-fishing':1,' Machine-op-inspct':1,' Adm-clerical':1,\n",
        "    ' Transport-moving':2,' Craft-repair':2,' Sales':2, ' ?': -1,\n",
        "    ' Armed-Forces':3,' Tech-support':3,' Protective-serv':3,\n",
        "    ' Prof-specialty':4,' Exec-managerial':4}\n",
        "\n",
        "X['occupation'] = [occ_groups[x] for x in df['occupation']]\n",
        "\n",
        "X.head()"
      ]
    },
    {
      "cell_type": "markdown",
      "metadata": {
        "id": "6xSnqtN2GFi1"
      },
      "source": [
        "## Fairness Metrics\n",
        "\n",
        "#### Different metrics can be used to evaluate the fairness of an AI tool. These include equality of opportunity, statistical parity, predictive parity and calibration. You can find more details about these fairness metrics in this paper from Pratyush and Vilasenor (2020) https://arxiv.org/pdf/2001.07864.pdf. \n",
        "\n",
        "#### In this exercise we will be using equality of opportunity as a metric to evaluate the fairness of ML algorithms. You will train two algorithms (Random Forest and SVM) and evaluate/compare their accuracies acorss different groups. "
      ]
    },
    {
      "cell_type": "code",
      "execution_count": 17,
      "metadata": {
        "id": "u1bo-6VTGFi2",
        "colab": {
          "base_uri": "https://localhost:8080/"
        },
        "outputId": "c39eade0-0f58-4a4b-bf58-1431cc0e5a8c"
      },
      "outputs": [
        {
          "output_type": "stream",
          "name": "stderr",
          "text": [
            "<ipython-input-17-5aa69f16c8e4>:11: SettingWithCopyWarning: \n",
            "A value is trying to be set on a copy of a slice from a DataFrame.\n",
            "Try using .loc[row_indexer,col_indexer] = value instead\n",
            "\n",
            "See the caveats in the documentation: https://pandas.pydata.org/pandas-docs/stable/user_guide/indexing.html#returning-a-view-versus-a-copy\n",
            "  df_fair['y_pred'] = y_pred\n"
          ]
        }
      ],
      "source": [
        "from sklearn.ensemble import RandomForestClassifier\n",
        "from sklearn.datasets import make_classification\n",
        "#TASK 4\n",
        "#Training a Random forest Classifier\n",
        "\n",
        "model = RandomForestClassifier(max_depth=2, random_state=0)\n",
        "model.fit(X, y)\n",
        "\n",
        "#Get predictions\n",
        "y_pred = model.predict(X)\n",
        "df_fair['y_pred'] = y_pred\n",
        "\n"
      ]
    },
    {
      "cell_type": "code",
      "execution_count": 18,
      "metadata": {
        "id": "RLtjmpd_GFi2"
      },
      "outputs": [],
      "source": [
        "\n",
        "def fairness_metrics(df):\n",
        "    \n",
        "# TASK 5\n",
        "# Make a Confusion Matrix of real values and predicted values\n",
        "    cm = confusion_matrix(df['y'], df['y_pred'])\n",
        "    TN, FP, FN, TP = cm.ravel()\n",
        "    \n",
        "    N = TP+FP+FN+TN #Total population\n",
        "    ACC = (TP+TN)/N #Accuracy\n",
        "    \n",
        "    return np.array([ACC])  "
      ]
    },
    {
      "cell_type": "code",
      "execution_count": 19,
      "metadata": {
        "id": "j9NNXYJjGFi2",
        "colab": {
          "base_uri": "https://localhost:8080/"
        },
        "outputId": "e1021adf-babf-4e73-f6a4-4e7b568980ad"
      },
      "outputs": [
        {
          "output_type": "stream",
          "name": "stdout",
          "text": [
            "[0.87376185]\n",
            "[0.80784441]\n"
          ]
        }
      ],
      "source": [
        "\n",
        "\n",
        "#TASK 6\n",
        "#Calculate the fairness metrics for privileged and under-privileed group in race \n",
        "fm_race_1 = fairness_metrics(df_fair[df_fair.priv_race==1])\n",
        "fm_race_0 = fairness_metrics(df_fair[df_fair.priv_race==0])\n",
        "\n",
        "#Get ratio of fairness metrics\n",
        "fm_race = fm_race_0/fm_race_1\n",
        "\n",
        "print(fm_race_0)\n",
        "print(fm_race_1)"
      ]
    },
    {
      "cell_type": "code",
      "execution_count": 21,
      "metadata": {
        "id": "TOsHfsy4GFi3",
        "colab": {
          "base_uri": "https://localhost:8080/"
        },
        "outputId": "7a0f2ed7-5a35-4726-9c9d-b3b09033146e"
      },
      "outputs": [
        {
          "output_type": "stream",
          "name": "stdout",
          "text": [
            "[0.77310693]\n",
            "[0.90715811]\n"
          ]
        }
      ],
      "source": [
        "#TASK 7\n",
        "\n",
        "#Calculate the fairness metrics for privileged and under-privileed group in sex \n",
        "fm_sex_1 = fairness_metrics(df_fair[df_fair.priv_sex==1])\n",
        "fm_sex_0 = fairness_metrics(df_fair[df_fair.priv_sex==0])\n",
        "print(fm_sex_1)\n",
        "print(fm_sex_0)"
      ]
    },
    {
      "cell_type": "code",
      "execution_count": 22,
      "metadata": {
        "id": "8ztrGrZlGFi3",
        "colab": {
          "base_uri": "https://localhost:8080/"
        },
        "outputId": "c05e3acc-7e2c-4947-b17e-59cb8cfc6baf"
      },
      "outputs": [
        {
          "output_type": "stream",
          "name": "stderr",
          "text": [
            "<ipython-input-22-e7ce67d51851>:9: SettingWithCopyWarning: \n",
            "A value is trying to be set on a copy of a slice from a DataFrame.\n",
            "Try using .loc[row_indexer,col_indexer] = value instead\n",
            "\n",
            "See the caveats in the documentation: https://pandas.pydata.org/pandas-docs/stable/user_guide/indexing.html#returning-a-view-versus-a-copy\n",
            "  df_fair['y_pred_svm'] = y_pred_svm\n"
          ]
        }
      ],
      "source": [
        "#TASK 8\n",
        "#Training a Support Vector Machine Model\n",
        "\n",
        "model1 = svm.SVC()\n",
        "model1.fit(X, y)\n",
        "\n",
        "#Get predictions\n",
        "y_pred_svm = model1.predict(X)\n",
        "df_fair['y_pred_svm'] = y_pred_svm"
      ]
    },
    {
      "cell_type": "markdown",
      "metadata": {
        "id": "JDwQsxn4GFi3"
      },
      "source": []
    },
    {
      "cell_type": "code",
      "execution_count": 23,
      "metadata": {
        "id": "fb3EfIiEGFi3"
      },
      "outputs": [],
      "source": [
        "def fairness_metrics_2(df):\n",
        "    \"\"\"Calculate fairness for subgroup of population\"\"\"\n",
        "    \n",
        "# Make a Confusion Matrix of real values and target values\n",
        "    cm=confusion_matrix(df['y'],df['y_pred_svm'])\n",
        "    TN, FP, FN, TP = cm.ravel()\n",
        "    \n",
        "    N = TP+FP+FN+TN #Total population\n",
        "    ACC = (TP+TN)/N #Accuracy\n",
        "    \n",
        "    return np.array([ACC])  "
      ]
    },
    {
      "cell_type": "code",
      "execution_count": 24,
      "metadata": {
        "id": "Ftf5gsR8GFi4",
        "colab": {
          "base_uri": "https://localhost:8080/"
        },
        "outputId": "194fc20e-dfbd-408e-85e9-b3bf9aaecd26"
      },
      "outputs": [
        {
          "output_type": "stream",
          "name": "stdout",
          "text": [
            "[0.87586934]\n",
            "[0.81600518]\n"
          ]
        }
      ],
      "source": [
        "#TASK 9\n",
        "#Calculate the fairness metrics for privileged and under-privileed group in race for SVM\n",
        "fm_race_1_svm = fairness_metrics_2(df_fair[df_fair.priv_race==1])\n",
        "fm_race_0_svm = fairness_metrics_2(df_fair[df_fair.priv_race==0])\n",
        "\n",
        "#Get ratio of fairness metrics\n",
        "fm_race_svm = fm_race_0_svm/fm_race_1_svm\n",
        "\n",
        "print(fm_race_0_svm)\n",
        "print(fm_race_1_svm)"
      ]
    },
    {
      "cell_type": "code",
      "execution_count": 25,
      "metadata": {
        "id": "N8d9JkE3GFi4",
        "colab": {
          "base_uri": "https://localhost:8080/"
        },
        "outputId": "55b70659-c377-419d-c103-22a0d18cfe9e"
      },
      "outputs": [
        {
          "output_type": "stream",
          "name": "stdout",
          "text": [
            "[0.89824529]\n",
            "[0.78838917]\n"
          ]
        }
      ],
      "source": [
        "#TASK 10\n",
        "#Calculate the fairness metrics for privileged and under-privileed group in sex for SVM\n",
        "fm_sex_1_svm = fairness_metrics_2(df_fair[df_fair.priv_sex==1])\n",
        "fm_sex_0_svm = fairness_metrics_2(df_fair[df_fair.priv_sex==0])\n",
        "\n",
        "#Get ratio of fairness metrics\n",
        "fm_sex_svm = fm_sex_0_svm/fm_sex_1_svm\n",
        "\n",
        "print(fm_sex_0_svm)\n",
        "print(fm_sex_1_svm)"
      ]
    }
  ],
  "metadata": {
    "kernelspec": {
      "display_name": "base",
      "language": "python",
      "name": "python3"
    },
    "language_info": {
      "codemirror_mode": {
        "name": "ipython",
        "version": 3
      },
      "file_extension": ".py",
      "mimetype": "text/x-python",
      "name": "python",
      "nbconvert_exporter": "python",
      "pygments_lexer": "ipython3",
      "version": "3.9.12"
    },
    "orig_nbformat": 4,
    "vscode": {
      "interpreter": {
        "hash": "bb2560baf818c11029a225c330940475feae786f05463d7ccf2e31c29c63e44b"
      }
    },
    "colab": {
      "provenance": []
    }
  },
  "nbformat": 4,
  "nbformat_minor": 0
}